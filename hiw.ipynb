{
 "cells": [
  {
   "cell_type": "code",
   "execution_count": 16,
   "metadata": {},
   "outputs": [
    {
     "name": "stdout",
     "output_type": "stream",
     "text": [
      "dict_keys(['object', 'data'])\n",
      "60\n",
      "['curie-search-query', 'babbage-search-document', 'text-search-babbage-doc-001', 'babbage', 'text-babbage-001', 'text-similarity-davinci-001', 'davinci', 'davinci-similarity', 'code-davinci-edit-001', 'curie-similarity', 'code-search-babbage-code-001', 'curie-instruct-beta', 'text-search-ada-doc-001', 'davinci-instruct-beta', 'text-search-davinci-doc-001', 'text-curie-001', 'davinci-search-query', 'text-similarity-curie-001', 'text-davinci-001', 'text-search-davinci-query-001', 'text-davinci-003', 'ada-search-document', 'ada-code-search-code', 'babbage-002', 'whisper-1', 'gpt-4-0613', 'gpt-4', 'davinci-002', 'davinci-search-document', 'curie-search-document', 'babbage-code-search-text', 'babbage-code-search-code', 'babbage-search-query', 'text-search-ada-query-001', 'code-search-ada-text-001', 'gpt-3.5-turbo-instruct-0914', 'gpt-3.5-turbo-instruct', 'gpt-3.5-turbo-0613', 'ada-search-query', 'ada-code-search-text', 'text-search-curie-query-001', 'text-davinci-002', 'code-search-babbage-text-001', 'text-embedding-ada-002', 'text-davinci-edit-001', 'ada', 'text-ada-001', 'ada-similarity', 'code-search-ada-code-001', 'text-similarity-babbage-001', 'text-similarity-ada-001', 'gpt-3.5-turbo-0301', 'curie', 'babbage-similarity', 'gpt-3.5-turbo-16k', 'gpt-3.5-turbo', 'gpt-4-0314', 'text-search-babbage-query-001', 'text-search-curie-doc-001', 'gpt-3.5-turbo-16k-0613']\n"
     ]
    },
    {
     "data": {
      "text/plain": [
       "{'id': 'gpt-3.5-turbo-16k-0613',\n",
       " 'object': 'model',\n",
       " 'created': 1685474247,\n",
       " 'owned_by': 'openai',\n",
       " 'permission': [{'id': 'modelperm-Hk9J34s4hlEGFpmvYhhEdeso',\n",
       "   'object': 'model_permission',\n",
       "   'created': 1695243588,\n",
       "   'allow_create_engine': False,\n",
       "   'allow_sampling': True,\n",
       "   'allow_logprobs': True,\n",
       "   'allow_search_indices': False,\n",
       "   'allow_view': True,\n",
       "   'allow_fine_tuning': False,\n",
       "   'organization': '*',\n",
       "   'group': None,\n",
       "   'is_blocking': False}],\n",
       " 'root': 'gpt-3.5-turbo-16k-0613',\n",
       " 'parent': None}"
      ]
     },
     "execution_count": 16,
     "metadata": {},
     "output_type": "execute_result"
    }
   ],
   "source": [
    "import json\n",
    "\n",
    "# Open the JSON file\n",
    "with open('models.json', 'r') as f:\n",
    "    # Load the JSON data from the file\n",
    "    data = json.load(f)\n",
    "\n",
    "# Print the data\n",
    "print(data.keys())\n",
    "models = [model['id'] for model in data['data']]\n",
    "\n",
    "print(len(models))\n",
    "print(models)\n",
    "data['data'][-1]"
   ]
  }
 ],
 "metadata": {
  "kernelspec": {
   "display_name": "venv",
   "language": "python",
   "name": "python3"
  },
  "language_info": {
   "codemirror_mode": {
    "name": "ipython",
    "version": 3
   },
   "file_extension": ".py",
   "mimetype": "text/x-python",
   "name": "python",
   "nbconvert_exporter": "python",
   "pygments_lexer": "ipython3",
   "version": "3.11.3"
  },
  "orig_nbformat": 4
 },
 "nbformat": 4,
 "nbformat_minor": 2
}
